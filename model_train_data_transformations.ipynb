{
 "cells": [
  {
   "cell_type": "code",
   "execution_count": 1,
   "id": "9154ddf7",
   "metadata": {
    "execution": {
     "iopub.execute_input": "2024-04-13T04:29:15.497475Z",
     "iopub.status.busy": "2024-04-13T04:29:15.497085Z",
     "iopub.status.idle": "2024-04-13T04:29:21.806297Z",
     "shell.execute_reply": "2024-04-13T04:29:21.805506Z"
    },
    "papermill": {
     "duration": 6.318695,
     "end_time": "2024-04-13T04:29:21.808604",
     "exception": false,
     "start_time": "2024-04-13T04:29:15.489909",
     "status": "completed"
    },
    "tags": []
   },
   "outputs": [],
   "source": [
    "from torchvision.models.detection import fasterrcnn_resnet50_fpn, fasterrcnn_resnet50_fpn_v2\n",
    "from torchvision.transforms import v2\n",
    "from torchvision import tv_tensors\n",
    "import numpy as np\n",
    "import torch\n",
    "from torchvision.io import read_image\n",
    "from matplotlib import pyplot as plt\n",
    "from torch.utils.data import Dataset, DataLoader\n",
    "from tqdm import tqdm\n",
    "import torch.optim as optim\n",
    "import torch.nn as nn\n",
    "import os\n",
    "import pandas as pd"
   ]
  },
  {
   "cell_type": "code",
   "execution_count": 2,
   "id": "2149bce8",
   "metadata": {
    "execution": {
     "iopub.execute_input": "2024-04-13T04:29:21.819730Z",
     "iopub.status.busy": "2024-04-13T04:29:21.819302Z",
     "iopub.status.idle": "2024-04-13T04:29:22.331715Z",
     "shell.execute_reply": "2024-04-13T04:29:22.330577Z"
    },
    "papermill": {
     "duration": 0.520072,
     "end_time": "2024-04-13T04:29:22.333818",
     "exception": false,
     "start_time": "2024-04-13T04:29:21.813746",
     "status": "completed"
    },
    "tags": []
   },
   "outputs": [
    {
     "name": "stdout",
     "output_type": "stream",
     "text": [
      "Number of training images: 2770\n",
      "Number of testing images: 1190\n"
     ]
    }
   ],
   "source": [
    "# List all of the important paths that we need and put them into usable variables for processing\n",
    "base_dir = '/kaggle/input/byu-locating-bacterial-flagellar-motors-v2'\n",
    "sample_csv_path = os.path.join(base_dir, 'sample_submission.csv')\n",
    "train_csv_path = os.path.join(base_dir, 'train.csv')\n",
    "train_path = os.path.join(base_dir, 'train')\n",
    "test_path = os.path.join(base_dir, 'val')\n",
    "\n",
    "# Check number of training and testing images\n",
    "print(f'Number of training images: {len(os.listdir(train_path))}')\n",
    "print(f'Number of testing images: {len(os.listdir(test_path))}')"
   ]
  },
  {
   "cell_type": "code",
   "execution_count": 3,
   "id": "0281ba3d",
   "metadata": {
    "execution": {
     "iopub.execute_input": "2024-04-13T04:29:22.344905Z",
     "iopub.status.busy": "2024-04-13T04:29:22.344588Z",
     "iopub.status.idle": "2024-04-13T04:29:22.349940Z",
     "shell.execute_reply": "2024-04-13T04:29:22.349079Z"
    },
    "papermill": {
     "duration": 0.012862,
     "end_time": "2024-04-13T04:29:22.351760",
     "exception": false,
     "start_time": "2024-04-13T04:29:22.338898",
     "status": "completed"
    },
    "tags": []
   },
   "outputs": [],
   "source": [
    "def train_test_split(test_ratio:float):\n",
    "    \"\"\"\n",
    "    Create a training and testing split of the images.\n",
    "\n",
    "    Parameters:\n",
    "    test_ratio: float\n",
    "        The ratio of the test set size to the total dataset size.\n",
    "    \"\"\"\n",
    "    images = os.listdir(train_path)\n",
    "    np.random.shuffle(images)\n",
    "    split = int(len(images)*test_ratio)\n",
    "    test_images = images[:split]\n",
    "    train_images = images[split:]\n",
    "    return train_images, test_images"
   ]
  },
  {
   "cell_type": "code",
   "execution_count": 4,
   "id": "1cc519be",
   "metadata": {
    "execution": {
     "iopub.execute_input": "2024-04-13T04:29:22.362477Z",
     "iopub.status.busy": "2024-04-13T04:29:22.362212Z",
     "iopub.status.idle": "2024-04-13T04:29:22.389368Z",
     "shell.execute_reply": "2024-04-13T04:29:22.388484Z"
    },
    "papermill": {
     "duration": 0.035012,
     "end_time": "2024-04-13T04:29:22.391495",
     "exception": false,
     "start_time": "2024-04-13T04:29:22.356483",
     "status": "completed"
    },
    "tags": []
   },
   "outputs": [
    {
     "data": {
      "text/html": [
       "<div>\n",
       "<style scoped>\n",
       "    .dataframe tbody tr th:only-of-type {\n",
       "        vertical-align: middle;\n",
       "    }\n",
       "\n",
       "    .dataframe tbody tr th {\n",
       "        vertical-align: top;\n",
       "    }\n",
       "\n",
       "    .dataframe thead th {\n",
       "        text-align: right;\n",
       "    }\n",
       "</style>\n",
       "<table border=\"1\" class=\"dataframe\">\n",
       "  <thead>\n",
       "    <tr style=\"text-align: right;\">\n",
       "      <th></th>\n",
       "      <th>image_name</th>\n",
       "      <th>x</th>\n",
       "      <th>y</th>\n",
       "      <th>motor_visible</th>\n",
       "    </tr>\n",
       "  </thead>\n",
       "  <tbody>\n",
       "    <tr>\n",
       "      <th>0</th>\n",
       "      <td>0001.png</td>\n",
       "      <td>223</td>\n",
       "      <td>323</td>\n",
       "      <td>1</td>\n",
       "    </tr>\n",
       "    <tr>\n",
       "      <th>1</th>\n",
       "      <td>0002.png</td>\n",
       "      <td>-1</td>\n",
       "      <td>-1</td>\n",
       "      <td>0</td>\n",
       "    </tr>\n",
       "    <tr>\n",
       "      <th>2</th>\n",
       "      <td>0003.png</td>\n",
       "      <td>-1</td>\n",
       "      <td>-1</td>\n",
       "      <td>0</td>\n",
       "    </tr>\n",
       "    <tr>\n",
       "      <th>3</th>\n",
       "      <td>0004.png</td>\n",
       "      <td>-1</td>\n",
       "      <td>-1</td>\n",
       "      <td>0</td>\n",
       "    </tr>\n",
       "    <tr>\n",
       "      <th>4</th>\n",
       "      <td>0005.png</td>\n",
       "      <td>363</td>\n",
       "      <td>73</td>\n",
       "      <td>1</td>\n",
       "    </tr>\n",
       "  </tbody>\n",
       "</table>\n",
       "</div>"
      ],
      "text/plain": [
       "  image_name    x    y  motor_visible\n",
       "0   0001.png  223  323              1\n",
       "1   0002.png   -1   -1              0\n",
       "2   0003.png   -1   -1              0\n",
       "3   0004.png   -1   -1              0\n",
       "4   0005.png  363   73              1"
      ]
     },
     "execution_count": 4,
     "metadata": {},
     "output_type": "execute_result"
    }
   ],
   "source": [
    "#Check the train csv\n",
    "train_df = pd.read_csv(train_csv_path)\n",
    "train_df.head()"
   ]
  },
  {
   "cell_type": "code",
   "execution_count": 5,
   "id": "df1560c6",
   "metadata": {
    "execution": {
     "iopub.execute_input": "2024-04-13T04:29:22.404085Z",
     "iopub.status.busy": "2024-04-13T04:29:22.403817Z",
     "iopub.status.idle": "2024-04-13T04:29:22.481431Z",
     "shell.execute_reply": "2024-04-13T04:29:22.480567Z"
    },
    "papermill": {
     "duration": 0.086,
     "end_time": "2024-04-13T04:29:22.483306",
     "exception": false,
     "start_time": "2024-04-13T04:29:22.397306",
     "status": "completed"
    },
    "tags": []
   },
   "outputs": [
    {
     "data": {
      "text/plain": [
       "True"
      ]
     },
     "execution_count": 5,
     "metadata": {},
     "output_type": "execute_result"
    }
   ],
   "source": [
    "torch.cuda.is_available()"
   ]
  },
  {
   "cell_type": "code",
   "execution_count": 6,
   "id": "ccf8f74a",
   "metadata": {
    "execution": {
     "iopub.execute_input": "2024-04-13T04:29:22.494945Z",
     "iopub.status.busy": "2024-04-13T04:29:22.494657Z",
     "iopub.status.idle": "2024-04-13T04:29:22.508312Z",
     "shell.execute_reply": "2024-04-13T04:29:22.507594Z"
    },
    "papermill": {
     "duration": 0.021498,
     "end_time": "2024-04-13T04:29:22.510075",
     "exception": false,
     "start_time": "2024-04-13T04:29:22.488577",
     "status": "completed"
    },
    "tags": []
   },
   "outputs": [],
   "source": [
    "class TrainImageDataset(Dataset):\n",
    "    def __init__(self, csv_file:str, images:list, train=True):\n",
    "        super(TrainImageDataset, self).__init__()\n",
    "        self.folder = '../input/byu-locating-bacterial-flagellar-motors-v2/train'\n",
    "        self.images = images\n",
    "        self.train = train\n",
    "        self.csv_to_dict(csv_file)\n",
    "        \n",
    "        self.transform = v2.Compose([\n",
    "                v2.RandomHorizontalFlip(p=0.5),\n",
    "                v2.RandomVerticalFlip(p=0.5),\n",
    "                v2.GaussianBlur(3, sigma=(0.1, 2.0)),\n",
    "                v2.ColorJitter(brightness=[0.25,1.75]) \n",
    "            ])\n",
    "        \n",
    "    \n",
    "    def csv_to_dict(self, csv_file):\n",
    "        self.pos = {}\n",
    "        with open(csv_file) as f:\n",
    "            next(f)\n",
    "            for line in f:\n",
    "                filename, x, y, motor = line.strip().split(',')\n",
    "                if int(motor):\n",
    "                    self.pos[filename] = [int(x), int(y)]\n",
    "                else:\n",
    "                    self.pos[filename] = None\n",
    "            \n",
    "\n",
    "    def __getitem__(self, idx):\n",
    "        file = self.images[idx]\n",
    "        file_path = os.path.join(self.folder, file)\n",
    "        img = read_image(file_path) / 255\n",
    "        \n",
    "        target = {}\n",
    "        \n",
    "        motor_coords = self.pos[file]\n",
    "        \n",
    "        if motor_coords:\n",
    "            x, y = motor_coords\n",
    "            box = torch.as_tensor([[x,y,x+1,y+1]], dtype=torch.float32)\n",
    "            label = torch.as_tensor([1], dtype=torch.torch.int64)\n",
    "        else:\n",
    "            box = torch.as_tensor([[0,0,1,1]], dtype=torch.float32)\n",
    "            label = torch.as_tensor([0], dtype=torch.torch.int64)\n",
    "        if self.train:\n",
    "            boxes = tv_tensors.BoundingBoxes(box, format=\"XYXY\", canvas_size=(img.shape[1], img.shape[2]))\n",
    "            imgs, bboxes = self.transform(img, boxes)\n",
    "            if not motor_coords:\n",
    "                bboxes = torch.tensor([[0,0,1,1]], dtype=torch.float32)\n",
    "        return imgs, bboxes, label\n",
    "\n",
    "    def __len__(self):\n",
    "        return len(self.images)"
   ]
  },
  {
   "cell_type": "code",
   "execution_count": 7,
   "id": "a693ae46",
   "metadata": {
    "execution": {
     "iopub.execute_input": "2024-04-13T04:29:22.521151Z",
     "iopub.status.busy": "2024-04-13T04:29:22.520908Z",
     "iopub.status.idle": "2024-04-13T04:29:24.424002Z",
     "shell.execute_reply": "2024-04-13T04:29:24.423002Z"
    },
    "papermill": {
     "duration": 1.911403,
     "end_time": "2024-04-13T04:29:24.426466",
     "exception": false,
     "start_time": "2024-04-13T04:29:22.515063",
     "status": "completed"
    },
    "tags": []
   },
   "outputs": [
    {
     "name": "stderr",
     "output_type": "stream",
     "text": [
      "/opt/conda/lib/python3.10/site-packages/torchvision/models/_utils.py:223: UserWarning: Arguments other than a weight enum or `None` for 'weights_backbone' are deprecated since 0.13 and may be removed in the future. The current behavior is equivalent to passing `weights_backbone=ResNet50_Weights.IMAGENET1K_V1`. You can also use `weights_backbone=ResNet50_Weights.DEFAULT` to get the most up-to-date weights.\n",
      "  warnings.warn(msg)\n",
      "Downloading: \"https://download.pytorch.org/models/resnet50-0676ba61.pth\" to /root/.cache/torch/hub/checkpoints/resnet50-0676ba61.pth\n",
      "100%|██████████| 97.8M/97.8M [00:00<00:00, 151MB/s]\n"
     ]
    }
   ],
   "source": [
    "model = fasterrcnn_resnet50_fpn_v2(num_classes=2, weights_backbone=True).cuda()"
   ]
  },
  {
   "cell_type": "code",
   "execution_count": 8,
   "id": "52e673fa",
   "metadata": {
    "execution": {
     "iopub.execute_input": "2024-04-13T04:29:24.440744Z",
     "iopub.status.busy": "2024-04-13T04:29:24.439988Z",
     "iopub.status.idle": "2024-04-13T04:29:24.446438Z",
     "shell.execute_reply": "2024-04-13T04:29:24.445604Z"
    },
    "papermill": {
     "duration": 0.015316,
     "end_time": "2024-04-13T04:29:24.448289",
     "exception": false,
     "start_time": "2024-04-13T04:29:24.432973",
     "status": "completed"
    },
    "tags": []
   },
   "outputs": [],
   "source": [
    "class ValImageDataset(Dataset):\n",
    "    def __init__(self):\n",
    "        super(ValImageDataset, self).__init__()\n",
    "        self.folder = '../input/byu-locating-bacterial-flagellar-motors-v2/val'\n",
    "        \n",
    "        self.files = sorted(os.listdir(self.folder))\n",
    "    \n",
    "\n",
    "    def __getitem__(self, idx):\n",
    "        file = self.files[idx]\n",
    "        file_path = os.path.join(self.folder, file)\n",
    "        img = read_image(file_path) / 255\n",
    "    \n",
    "        return file, img\n",
    "\n",
    "    def __len__(self):\n",
    "        return len(self.files)"
   ]
  },
  {
   "cell_type": "code",
   "execution_count": 9,
   "id": "d01bf98c",
   "metadata": {
    "execution": {
     "iopub.execute_input": "2024-04-13T04:29:24.461183Z",
     "iopub.status.busy": "2024-04-13T04:29:24.460939Z",
     "iopub.status.idle": "2024-04-13T04:29:24.466693Z",
     "shell.execute_reply": "2024-04-13T04:29:24.465661Z"
    },
    "papermill": {
     "duration": 0.014538,
     "end_time": "2024-04-13T04:29:24.468691",
     "exception": false,
     "start_time": "2024-04-13T04:29:24.454153",
     "status": "completed"
    },
    "tags": []
   },
   "outputs": [
    {
     "name": "stdout",
     "output_type": "stream",
     "text": [
      "2770\n"
     ]
    }
   ],
   "source": [
    "# Create a train and test set from the training images\n",
    "# train, test = train_test_split(0.1)\n",
    "train = os.listdir(train_path)\n",
    "print(len(train))"
   ]
  },
  {
   "cell_type": "code",
   "execution_count": 10,
   "id": "c1519308",
   "metadata": {
    "execution": {
     "iopub.execute_input": "2024-04-13T04:29:24.481912Z",
     "iopub.status.busy": "2024-04-13T04:29:24.481658Z",
     "iopub.status.idle": "2024-04-13T04:29:24.485632Z",
     "shell.execute_reply": "2024-04-13T04:29:24.484788Z"
    },
    "papermill": {
     "duration": 0.012695,
     "end_time": "2024-04-13T04:29:24.487492",
     "exception": false,
     "start_time": "2024-04-13T04:29:24.474797",
     "status": "completed"
    },
    "tags": []
   },
   "outputs": [],
   "source": [
    "assert torch.cuda.is_available() == True"
   ]
  },
  {
   "cell_type": "code",
   "execution_count": 11,
   "id": "1bdc17f9",
   "metadata": {
    "execution": {
     "iopub.execute_input": "2024-04-13T04:29:24.500838Z",
     "iopub.status.busy": "2024-04-13T04:29:24.500292Z",
     "iopub.status.idle": "2024-04-13T06:31:57.020787Z",
     "shell.execute_reply": "2024-04-13T06:31:57.019617Z"
    },
    "papermill": {
     "duration": 7352.530002,
     "end_time": "2024-04-13T06:31:57.023499",
     "exception": false,
     "start_time": "2024-04-13T04:29:24.493497",
     "status": "completed"
    },
    "tags": []
   },
   "outputs": [
    {
     "name": "stderr",
     "output_type": "stream",
     "text": [
      "Epoch: 0 Batch: 276 Train Loss:0.3375287353992462 Test Loss: 0 Test Accuracy: 0: 100%|██████████| 277/277 [12:33<00:00,  2.72s/it]\n",
      "Epoch: 1 Batch: 276 Train Loss:0.15642745792865753 Test Loss: 0 Test Accuracy: 0: 100%|██████████| 277/277 [12:11<00:00,  2.64s/it]\n",
      "Epoch: 2 Batch: 276 Train Loss:0.16124704480171204 Test Loss: 0 Test Accuracy: 0: 100%|██████████| 277/277 [12:11<00:00,  2.64s/it]\n",
      "Epoch: 3 Batch: 276 Train Loss:0.11981306225061417 Test Loss: 0 Test Accuracy: 0: 100%|██████████| 277/277 [12:12<00:00,  2.65s/it]\n",
      "Epoch: 4 Batch: 276 Train Loss:0.04008789733052254 Test Loss: 0 Test Accuracy: 0: 100%|██████████| 277/277 [12:13<00:00,  2.65s/it]\n",
      "Epoch: 5 Batch: 276 Train Loss:0.10245736688375473 Test Loss: 0 Test Accuracy: 0: 100%|██████████| 277/277 [12:13<00:00,  2.65s/it]\n",
      "Epoch: 6 Batch: 276 Train Loss:0.061454448848962784 Test Loss: 0 Test Accuracy: 0: 100%|██████████| 277/277 [12:14<00:00,  2.65s/it]\n",
      "Epoch: 7 Batch: 276 Train Loss:0.06544695794582367 Test Loss: 0 Test Accuracy: 0: 100%|██████████| 277/277 [12:12<00:00,  2.65s/it]\n",
      "Epoch: 8 Batch: 276 Train Loss:0.040846869349479675 Test Loss: 0 Test Accuracy: 0: 100%|██████████| 277/277 [12:14<00:00,  2.65s/it]\n",
      "Epoch: 9 Batch: 276 Train Loss:0.01517657469958067 Test Loss: 0 Test Accuracy: 0: 100%|██████████| 277/277 [12:14<00:00,  2.65s/it]"
     ]
    },
    {
     "name": "stdout",
     "output_type": "stream",
     "text": [
      "TRAINING FINISHED\n"
     ]
    },
    {
     "name": "stderr",
     "output_type": "stream",
     "text": [
      "\n"
     ]
    }
   ],
   "source": [
    "batch_size = 10\n",
    "lr = 0.00001\n",
    "epochs = 10\n",
    "test_interval = 25\n",
    "\n",
    "losses = []\n",
    "test_losses = []\n",
    "test_accuracies = []\n",
    "csv_path = '../input/byu-locating-bacterial-flagellar-motors-v2/train.csv'\n",
    "optimizer = optim.Adam(model.parameters(), lr=lr)\n",
    "train_dataset = TrainImageDataset(csv_path, train, train=True)\n",
    "# test_dataset = TrainImageDataset(csv_path, test, train=False)\n",
    "train_dataloader = DataLoader(train_dataset, batch_size=batch_size, shuffle=True)\n",
    "# test_dataloader = DataLoader(test_dataset, batch_size=batch_size, shuffle=False)\n",
    "\n",
    "\n",
    "for epoch in range(epochs):\n",
    "    model.train()\n",
    "    progress_bar = tqdm(train_dataloader, total=len(train_dataloader))\n",
    "    for batch,thing in enumerate(train_dataloader):\n",
    "        images, boxes, labels = thing\n",
    "        # add to cuda\n",
    "        images = images.cuda()\n",
    "        targets = []\n",
    "        for i in range(batch_size):\n",
    "            d = {}\n",
    "            d['boxes'] = boxes[i].cuda()\n",
    "            d['labels'] = labels[i].cuda()\n",
    "            targets.append(d)\n",
    "        \n",
    "        optimizer.zero_grad()\n",
    "        result = model(images, targets)\n",
    "        \n",
    "        \n",
    "        loss = sum(loss for loss in result.values())\n",
    "        losses.append(loss.item())\n",
    "\n",
    "        loss.backward()\n",
    "        optimizer.step()\n",
    "\n",
    "        progress_bar.set_description(f\"Epoch: {epoch} Batch: {batch} Train Loss:{loss} Test Loss: {test_losses[-1] if len(test_losses) > 0 else 0} Test Accuracy: {test_accuracies[-1] if len(test_accuracies) > 0 else 0}\")\n",
    "        progress_bar.update(1)\n",
    "        \n",
    "#         if batch % test_interval == 0:\n",
    "#             # Assuming model is your trained model\n",
    "#             model.eval()\n",
    "\n",
    "#             # Define a loss function, for example, CrossEntropyLoss\n",
    "#             criterion = nn.CrossEntropyLoss()\n",
    "\n",
    "#             # Initialize variables to accumulate loss and accuracy\n",
    "#             total_loss = 0.0\n",
    "#             correct_predictions = 0\n",
    "#             total_samples = 0\n",
    "\n",
    "#             # Iterate through each batch in the validation dataset\n",
    "#             for batch in test_dataloader:  # Assuming validation_loader is your DataLoader for the validation dataset\n",
    "#                 images, boxes, labels = batch\n",
    "#                 images = images.cuda()  # Assuming device is where your model is located\n",
    "#                 labels = labels.cuda()\n",
    "\n",
    "#                 # Forward pass\n",
    "#                 with torch.no_grad():\n",
    "#                     outputs = model(images)\n",
    "#                     loss = criterion(outputs, labels)\n",
    "#                     total_loss += loss.item() * images.size(0)\n",
    "\n",
    "#                 # Calculate accuracy\n",
    "#                 _, predicted = torch.max(outputs, 1)\n",
    "#                 correct_predictions += (predicted == labels).sum().item()\n",
    "#                 total_samples += labels.size(0)\n",
    "\n",
    "#             # Calculate average loss and accuracy\n",
    "#             average_loss = total_loss / total_samples\n",
    "#             accuracy = correct_predictions / total_samples\n",
    "#             test_losses.append(average_loss)\n",
    "#             test_accuracy.append(accuracy)\n",
    "                    \n",
    "                    \n",
    "\n",
    "\n",
    "    progress_bar.close()\n",
    "print('TRAINING FINISHED')"
   ]
  },
  {
   "cell_type": "code",
   "execution_count": 12,
   "id": "42304b94",
   "metadata": {
    "execution": {
     "iopub.execute_input": "2024-04-13T06:31:57.949481Z",
     "iopub.status.busy": "2024-04-13T06:31:57.948663Z",
     "iopub.status.idle": "2024-04-13T06:31:58.210111Z",
     "shell.execute_reply": "2024-04-13T06:31:58.209216Z"
    },
    "papermill": {
     "duration": 0.720975,
     "end_time": "2024-04-13T06:31:58.212239",
     "exception": false,
     "start_time": "2024-04-13T06:31:57.491264",
     "status": "completed"
    },
    "tags": []
   },
   "outputs": [
    {
     "data": {
      "image/png": "[encoded data removed]",
      "text/plain": [
       "<Figure size 640x480 with 1 Axes>"
      ]
     },
     "metadata": {},
     "output_type": "display_data"
    }
   ],
   "source": [
    "plt.plot(losses)\n",
    "plt.show()"
   ]
  },
  {
   "cell_type": "code",
   "execution_count": 13,
   "id": "ce88982b",
   "metadata": {
    "execution": {
     "iopub.execute_input": "2024-04-13T06:31:59.141555Z",
     "iopub.status.busy": "2024-04-13T06:31:59.141156Z",
     "iopub.status.idle": "2024-04-13T06:31:59.566163Z",
     "shell.execute_reply": "2024-04-13T06:31:59.565274Z"
    },
    "papermill": {
     "duration": 0.890063,
     "end_time": "2024-04-13T06:31:59.568662",
     "exception": false,
     "start_time": "2024-04-13T06:31:58.678599",
     "status": "completed"
    },
    "tags": []
   },
   "outputs": [],
   "source": [
    "models_path = os.path.join(base_dir, 'models')\n",
    "torch.save(model.state_dict(), 'rcnn_resnet50_v2_lr1e-5_epoch10.pt')\n"
   ]
  },
  {
   "cell_type": "code",
   "execution_count": 14,
   "id": "c5702679",
   "metadata": {
    "execution": {
     "iopub.execute_input": "2024-04-13T06:32:00.605743Z",
     "iopub.status.busy": "2024-04-13T06:32:00.605388Z",
     "iopub.status.idle": "2024-04-13T06:34:31.530715Z",
     "shell.execute_reply": "2024-04-13T06:34:31.529897Z"
    },
    "papermill": {
     "duration": 151.500554,
     "end_time": "2024-04-13T06:34:31.533057",
     "exception": false,
     "start_time": "2024-04-13T06:32:00.032503",
     "status": "completed"
    },
    "tags": []
   },
   "outputs": [],
   "source": [
    "dataset = ValImageDataset()\n",
    "dataloader = DataLoader(dataset, batch_size=1)\n",
    "\n",
    "with open('submission.csv', 'w') as f:\n",
    "    f.write('image_name,x,y,motor_visible\\n')\n",
    "    with torch.no_grad():\n",
    "        model.eval()\n",
    "        for thing in dataloader:\n",
    "            filename, image = thing\n",
    "            filename = filename[0]\n",
    "            output = model(image.cuda())[0]\n",
    "            \n",
    "            boxes = output['boxes']\n",
    "            \n",
    "            row = [filename]\n",
    "            \n",
    "            if len(boxes) == 0:\n",
    "                row.append('-1')\n",
    "                row.append('-1')\n",
    "                row.append('0')\n",
    "            else:\n",
    "                first_box = output['boxes'][0]\n",
    "                x,y, _, _ = first_box\n",
    "                row.append(str(x.item()))\n",
    "                row.append(str(y.item()))\n",
    "                row.append('1')\n",
    "                \n",
    "                \n",
    "            line = ','.join(row) + '\\n'\n",
    "            f.write(line)"
   ]
  },
  {
   "cell_type": "code",
   "execution_count": null,
   "id": "ce3a0a55",
   "metadata": {
    "papermill": {
     "duration": 0.446079,
     "end_time": "2024-04-13T06:34:32.420294",
     "exception": false,
     "start_time": "2024-04-13T06:34:31.974215",
     "status": "completed"
    },
    "tags": []
   },
   "outputs": [],
   "source": []
  }
 ],
 "metadata": {
  "kaggle": {
   "accelerator": "nvidiaTeslaT4",
   "dataSources": [
    {
     "databundleVersionId": 8152410,
     "sourceId": 73479,
     "sourceType": "competition"
    }
   ],
   "dockerImageVersionId": 30684,
   "isGpuEnabled": true,
   "isInternetEnabled": true,
   "language": "python",
   "sourceType": "notebook"
  },
  "kernelspec": {
   "display_name": "Python 3",
   "language": "python",
   "name": "python3"
  },
  "language_info": {
   "codemirror_mode": {
    "name": "ipython",
    "version": 3
   },
   "file_extension": ".py",
   "mimetype": "text/x-python",
   "name": "python",
   "nbconvert_exporter": "python",
   "pygments_lexer": "ipython3",
   "version": "3.10.13"
  },
  "papermill": {
   "default_parameters": {},
   "duration": 7521.597618,
   "end_time": "2024-04-13T06:34:34.404693",
   "environment_variables": {},
   "exception": null,
   "input_path": "__notebook__.ipynb",
   "output_path": "__notebook__.ipynb",
   "parameters": {},
   "start_time": "2024-04-13T04:29:12.807075",
   "version": "2.5.0"
  }
 },
 "nbformat": 4,
 "nbformat_minor": 5
}
